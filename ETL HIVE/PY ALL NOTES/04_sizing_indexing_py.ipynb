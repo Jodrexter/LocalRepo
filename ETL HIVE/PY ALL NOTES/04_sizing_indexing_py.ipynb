{
 "cells": [
  {
   "cell_type": "code",
   "execution_count": null,
   "id": "c25553b0-91cb-46c3-8cad-4b128ffeadfa",
   "metadata": {},
   "outputs": [],
   "source": [
    "# # what is the datatype of 23.45\n",
    "# what is the datatype of '45'\n",
    "# what is the square of 30\n",
    "# what is the cube of 12\n",
    "# what is the double of 800\n",
    "# what is the product of 45 and 33\n",
    "# what will be the remainder if we divide 60 by 3\n",
    "# take a number from user and print its triple\n",
    "# take name from user and print a good morning wish >> hello ...... very very good morning\n",
    "# take 2 numbers from user and print the difference of them\n",
    "#  Print the name, gender and age of user by taking user input.(eg- your name is ……… and you are a ………. and your age is ….)\n",
    "# . Take the marks of 4 subjects from user and calculate the average marks of user.\n",
    "# take a number from user and print its 47%"
   ]
  },
  {
   "cell_type": "code",
   "execution_count": 1,
   "id": "4d28c9aa-ba70-421c-a4da-0ab3a26a5c82",
   "metadata": {},
   "outputs": [
    {
     "ename": "NameError",
     "evalue": "name 'typeof' is not defined",
     "output_type": "error",
     "traceback": [
      "\u001b[1;31m---------------------------------------------------------------------------\u001b[0m",
      "\u001b[1;31mNameError\u001b[0m                                 Traceback (most recent call last)",
      "Cell \u001b[1;32mIn[1], line 1\u001b[0m\n\u001b[1;32m----> 1\u001b[0m typeof(\u001b[38;5;241m23.45\u001b[39m)\n",
      "\u001b[1;31mNameError\u001b[0m: name 'typeof' is not defined"
     ]
    }
   ],
   "source": [
    "typeof(23.45)"
   ]
  },
  {
   "cell_type": "code",
   "execution_count": 3,
   "id": "200e6d42-2ebc-4ed2-b39e-9324aff7602b",
   "metadata": {},
   "outputs": [
    {
     "data": {
      "text/plain": [
       "float"
      ]
     },
     "execution_count": 3,
     "metadata": {},
     "output_type": "execute_result"
    }
   ],
   "source": [
    "# # what is the datatype of 23.45\n",
    "type(23.45)"
   ]
  },
  {
   "cell_type": "code",
   "execution_count": 5,
   "id": "131cfaaf-b996-4f0b-aaba-e0b501c11559",
   "metadata": {},
   "outputs": [
    {
     "data": {
      "text/plain": [
       "int"
      ]
     },
     "execution_count": 5,
     "metadata": {},
     "output_type": "execute_result"
    }
   ],
   "source": [
    "# what is the datatype of '45'\n",
    "type(45)"
   ]
  },
  {
   "cell_type": "code",
   "execution_count": 9,
   "id": "821dcc72-f85d-457b-8ca2-445cf8c4f453",
   "metadata": {},
   "outputs": [
    {
     "data": {
      "text/plain": [
       "900"
      ]
     },
     "execution_count": 9,
     "metadata": {},
     "output_type": "execute_result"
    }
   ],
   "source": [
    "# what is the square of 30\n",
    "30**2"
   ]
  },
  {
   "cell_type": "code",
   "execution_count": 13,
   "id": "76037f00-2f55-42a2-9e90-0007b1bf44a4",
   "metadata": {},
   "outputs": [
    {
     "data": {
      "text/plain": [
       "1728"
      ]
     },
     "execution_count": 13,
     "metadata": {},
     "output_type": "execute_result"
    }
   ],
   "source": [
    "# what is the cube of 12\n",
    "12**3"
   ]
  },
  {
   "cell_type": "code",
   "execution_count": 15,
   "id": "e909b615-726d-4d8b-9fc8-9175e97f83ce",
   "metadata": {},
   "outputs": [
    {
     "data": {
      "text/plain": [
       "1600"
      ]
     },
     "execution_count": 15,
     "metadata": {},
     "output_type": "execute_result"
    }
   ],
   "source": [
    "# what is the double of 800\n",
    "800*2"
   ]
  },
  {
   "cell_type": "code",
   "execution_count": 17,
   "id": "aa2e0dd3-d03e-43f3-9ae9-1dd4160258c2",
   "metadata": {},
   "outputs": [
    {
     "data": {
      "text/plain": [
       "90"
      ]
     },
     "execution_count": 17,
     "metadata": {},
     "output_type": "execute_result"
    }
   ],
   "source": [
    "# what is the product of 45 and 33\n",
    "45*2"
   ]
  },
  {
   "cell_type": "code",
   "execution_count": 19,
   "id": "b8c879bd-6c52-49a3-b95e-706897d962b7",
   "metadata": {},
   "outputs": [
    {
     "data": {
      "text/plain": [
       "66"
      ]
     },
     "execution_count": 19,
     "metadata": {},
     "output_type": "execute_result"
    }
   ],
   "source": [
    "# what is the product of 45 and 33\n",
    "33*2"
   ]
  },
  {
   "cell_type": "code",
   "execution_count": 21,
   "id": "0f502729-c20b-4825-8ad6-181e21638339",
   "metadata": {},
   "outputs": [],
   "source": [
    "# what is the product of 45 and 33\n",
    "product = 45 * 33"
   ]
  },
  {
   "cell_type": "code",
   "execution_count": 23,
   "id": "8e8aa4df-ad1c-4f0b-b67d-40ddfdbb1869",
   "metadata": {},
   "outputs": [
    {
     "name": "stdout",
     "output_type": "stream",
     "text": [
      "1485\n"
     ]
    }
   ],
   "source": [
    "print(product)"
   ]
  },
  {
   "cell_type": "code",
   "execution_count": 25,
   "id": "3869105f-3717-44d0-8eb2-88b6e6dec9dc",
   "metadata": {},
   "outputs": [
    {
     "data": {
      "text/plain": [
       "20.0"
      ]
     },
     "execution_count": 25,
     "metadata": {},
     "output_type": "execute_result"
    }
   ],
   "source": [
    "# what will be the remainder if we divide 60 by 3\n",
    "60/3"
   ]
  },
  {
   "cell_type": "code",
   "execution_count": 29,
   "id": "4c665679-e05c-4599-91c6-50193e64e6e4",
   "metadata": {},
   "outputs": [
    {
     "name": "stdin",
     "output_type": "stream",
     "text": [
      "no 5\n"
     ]
    },
    {
     "data": {
      "text/plain": [
       "15"
      ]
     },
     "execution_count": 29,
     "metadata": {},
     "output_type": "execute_result"
    }
   ],
   "source": [
    "# take a number from user and print its triple\n",
    "x = int(input(\"no\"))\n",
    "x*3"
   ]
  },
  {
   "cell_type": "code",
   "execution_count": 35,
   "id": "cff3ecfa-1d88-4a6e-a9a8-205214d1b56e",
   "metadata": {},
   "outputs": [
    {
     "name": "stdin",
     "output_type": "stream",
     "text": [
      "enter name adi\n"
     ]
    },
    {
     "name": "stdout",
     "output_type": "stream",
     "text": [
      "hello adi very very good morning\n"
     ]
    }
   ],
   "source": [
    "# # take name from user and print a good morning wish >> hello ...... very very good morning\n",
    "name = input(\"enter name\")\n",
    "print(\"hello \"+name+ \" very very good morning\")"
   ]
  },
  {
   "cell_type": "code",
   "execution_count": 41,
   "id": "6ba891c5-4122-4467-ad0b-4d90f8ad950b",
   "metadata": {},
   "outputs": [
    {
     "name": "stdin",
     "output_type": "stream",
     "text": [
      "enter no 34\n",
      "enter no2 56\n"
     ]
    },
    {
     "name": "stdout",
     "output_type": "stream",
     "text": [
      "diffrence is  34 and 56 is -22\n"
     ]
    }
   ],
   "source": [
    "# take 2 numbers from user and print the difference of them\n",
    "num1 =int(input(\"enter no\"))\n",
    "num2 =int(input(\"enter no2\"))\n",
    "diff = num1 - num2\n",
    "print(\"diffrence is \", num1 ,\"and\",num2 ,\"is\",diff)"
   ]
  },
  {
   "cell_type": "code",
   "execution_count": 45,
   "id": "17d4647e-169f-4349-a0bc-9c05e734ef9b",
   "metadata": {},
   "outputs": [
    {
     "name": "stdin",
     "output_type": "stream",
     "text": [
      "enter name adi\n",
      "enter gender male\n",
      "enter age 34\n"
     ]
    },
    {
     "name": "stdout",
     "output_type": "stream",
     "text": [
      "your name is  adi and you are a  male and your age is  34\n"
     ]
    }
   ],
   "source": [
    "#  Print the name, gender and age of user by taking user input.(eg- your name is ……… and you are a ………. and your age is ….)\n",
    "name1 = input(\"enter name\")\n",
    "gender = input(\"enter gender\")\n",
    "age = int(input(\"enter age\"))\n",
    "print(\"your name is \",name, \"and you are a \",gender ,\"and your age is \",age)"
   ]
  },
  {
   "cell_type": "code",
   "execution_count": 59,
   "id": "75b3560f-ef12-442d-be83-eb6f219f5062",
   "metadata": {},
   "outputs": [
    {
     "name": "stdin",
     "output_type": "stream",
     "text": [
      "sub1 12\n",
      "sub2 12\n",
      "sub3 12\n",
      "sub4 12\n"
     ]
    },
    {
     "name": "stdout",
     "output_type": "stream",
     "text": [
      "the avg marks is  39.0\n"
     ]
    }
   ],
   "source": [
    "# . Take the marks of 4 subjects from user and calculate the average marks of user.\n",
    "sub1 =int(input(\"sub1\"))\n",
    "sub2 =int(input(\"sub2\"))\n",
    "sub3 =int(input(\"sub3\"))\n",
    "sub4 =int(input(\"sub4\"))\n",
    "print(\"the avg marks is \",sub1+sub2+sub3+sub4/4)"
   ]
  },
  {
   "cell_type": "code",
   "execution_count": 55,
   "id": "771f357c-ae59-43d8-b87c-2ea751f98287",
   "metadata": {},
   "outputs": [
    {
     "name": "stdin",
     "output_type": "stream",
     "text": [
      "enter No 19\n"
     ]
    },
    {
     "name": "stdout",
     "output_type": "stream",
     "text": [
      "8.93\n"
     ]
    }
   ],
   "source": [
    "# take a number from user and print its 47%\n",
    "t =int(input(\"enter No\"))\n",
    "print(t*0.47)"
   ]
  },
  {
   "cell_type": "markdown",
   "id": "e0e70744-3339-4580-ace2-aab01d7cd329",
   "metadata": {},
   "source": [
    "# LIST"
   ]
  },
  {
   "cell_type": "code",
   "execution_count": 62,
   "id": "c7dc7ed9-4bcb-47b5-b341-b85b3700cb0b",
   "metadata": {},
   "outputs": [],
   "source": [
    "# collection of elements\n",
    "# list is reperesented by []\n",
    "# list is ordered\n",
    "# "
   ]
  },
  {
   "cell_type": "code",
   "execution_count": 64,
   "id": "39b1176f-d518-4f6c-a69b-bce4df13a955",
   "metadata": {},
   "outputs": [],
   "source": [
    "k = [12,123,44.5,'adi']"
   ]
  },
  {
   "cell_type": "code",
   "execution_count": 66,
   "id": "88eed455-1ff1-48cd-bfb9-1b4fa6279f8f",
   "metadata": {},
   "outputs": [
    {
     "data": {
      "text/plain": [
       "list"
      ]
     },
     "execution_count": 66,
     "metadata": {},
     "output_type": "execute_result"
    }
   ],
   "source": [
    "type(k)"
   ]
  },
  {
   "cell_type": "code",
   "execution_count": 72,
   "id": "b1b8544a-61ac-46f1-915a-3ac021c830cc",
   "metadata": {},
   "outputs": [
    {
     "data": {
      "text/plain": [
       "67"
      ]
     },
     "execution_count": 72,
     "metadata": {},
     "output_type": "execute_result"
    }
   ],
   "source": [
    "# index number >> fixed posistion of element\n",
    "# starts with 0\n",
    "k =[12,23,34,45,56,67]\n",
    "# extract 34 from list\n",
    "# 12\n",
    "# 23\n",
    "# 67\n",
    "k[2]\n",
    "k[5]"
   ]
  },
  {
   "cell_type": "code",
   "execution_count": 74,
   "id": "9e661598-7bc1-47a3-bbdb-afb736ccd873",
   "metadata": {},
   "outputs": [
    {
     "data": {
      "text/plain": [
       "23"
      ]
     },
     "execution_count": 74,
     "metadata": {},
     "output_type": "execute_result"
    }
   ],
   "source": [
    "k[1]"
   ]
  },
  {
   "cell_type": "code",
   "execution_count": 76,
   "id": "e50bd6d1-901f-4fdc-964a-48597ac50485",
   "metadata": {},
   "outputs": [
    {
     "data": {
      "text/plain": [
       "12"
      ]
     },
     "execution_count": 76,
     "metadata": {},
     "output_type": "execute_result"
    }
   ],
   "source": [
    "k[0]"
   ]
  },
  {
   "cell_type": "code",
   "execution_count": 78,
   "id": "9c00c5b7-b6e9-4bc7-a36d-6c109efc87b4",
   "metadata": {},
   "outputs": [
    {
     "data": {
      "text/plain": [
       "67"
      ]
     },
     "execution_count": 78,
     "metadata": {},
     "output_type": "execute_result"
    }
   ],
   "source": [
    "k[5]"
   ]
  },
  {
   "cell_type": "markdown",
   "id": "3b31d043-0a4f-4f59-9868-bf3ee67edd41",
   "metadata": {},
   "source": [
    "# slicing"
   ]
  },
  {
   "cell_type": "code",
   "execution_count": 81,
   "id": "ac23b5d7-7428-4a88-b454-ae3d9e1b02a1",
   "metadata": {},
   "outputs": [
    {
     "data": {
      "text/plain": [
       "[23, 34, 45]"
      ]
     },
     "execution_count": 81,
     "metadata": {},
     "output_type": "execute_result"
    }
   ],
   "source": [
    "k =[12,23,34,45,56,67]\n",
    "k[1:4] # list_name[start_index:end_index+1]"
   ]
  },
  {
   "cell_type": "code",
   "execution_count": 101,
   "id": "88341948-5557-40e4-9cfb-19a8154ddffd",
   "metadata": {},
   "outputs": [],
   "source": [
    "# extract [45, 56]\n",
    "# extract [34, 45, 56]\n",
    "# extract [12, 23]\n",
    "# extract [12, 23, 34, 45, 56]\n",
    "# extract [23, 34, 45, 56, 67]"
   ]
  },
  {
   "cell_type": "code",
   "execution_count": 87,
   "id": "531b1557-317d-400d-be25-0d5d9d6f24f1",
   "metadata": {},
   "outputs": [
    {
     "data": {
      "text/plain": [
       "[45, 56]"
      ]
     },
     "execution_count": 87,
     "metadata": {},
     "output_type": "execute_result"
    }
   ],
   "source": [
    "# extract [45, 56]\n",
    "k[3:5]"
   ]
  },
  {
   "cell_type": "code",
   "execution_count": 89,
   "id": "2e5dceaf-bbda-4a0e-8458-18638355451f",
   "metadata": {},
   "outputs": [
    {
     "data": {
      "text/plain": [
       "[34, 45, 56]"
      ]
     },
     "execution_count": 89,
     "metadata": {},
     "output_type": "execute_result"
    }
   ],
   "source": [
    "# extract [34, 45, 56]\n",
    "k[2:5]"
   ]
  },
  {
   "cell_type": "code",
   "execution_count": 103,
   "id": "4273477f-6452-42a0-b130-5ef08b04d210",
   "metadata": {
    "scrolled": true
   },
   "outputs": [
    {
     "data": {
      "text/plain": [
       "[12, 23]"
      ]
     },
     "execution_count": 103,
     "metadata": {},
     "output_type": "execute_result"
    }
   ],
   "source": [
    "# extract [12, 23]\n",
    "k[0:2]"
   ]
  },
  {
   "cell_type": "code",
   "execution_count": 95,
   "id": "ece1a0ab-8db8-4db3-8fce-44e6ed43d25d",
   "metadata": {},
   "outputs": [
    {
     "data": {
      "text/plain": [
       "[12, 23, 34, 45, 56]"
      ]
     },
     "execution_count": 95,
     "metadata": {},
     "output_type": "execute_result"
    }
   ],
   "source": [
    "# extract [12, 23, 34, 45, 56]\n",
    "k[0:5]\n",
    "# or\n",
    "k[:5]"
   ]
  },
  {
   "cell_type": "code",
   "execution_count": 99,
   "id": "5680b33b-8210-4dde-88e2-0d6293f8807f",
   "metadata": {},
   "outputs": [
    {
     "data": {
      "text/plain": [
       "[23, 34, 45, 56, 67]"
      ]
     },
     "execution_count": 99,
     "metadata": {},
     "output_type": "execute_result"
    }
   ],
   "source": [
    "# extract [23, 34, 45, 56, 67]\n",
    "k[1:6]\n",
    "# or\n",
    "k[1:]"
   ]
  },
  {
   "cell_type": "code",
   "execution_count": 105,
   "id": "823d8d59-0e55-40a5-ae64-e75de0b977f1",
   "metadata": {},
   "outputs": [
    {
     "data": {
      "text/plain": [
       "[12, 23, 34, 45, 56, 67]"
      ]
     },
     "execution_count": 105,
     "metadata": {},
     "output_type": "execute_result"
    }
   ],
   "source": [
    "# show all list\n",
    "k[:]"
   ]
  },
  {
   "cell_type": "code",
   "execution_count": 107,
   "id": "35e39568-5287-4416-957e-cf6c2c9109f6",
   "metadata": {},
   "outputs": [
    {
     "data": {
      "text/plain": [
       "[12, 34, 56, 78]"
      ]
     },
     "execution_count": 107,
     "metadata": {},
     "output_type": "execute_result"
    }
   ],
   "source": [
    "k=[12,23,34,45,56,67,78]\n",
    "# [12,34,56,78]\n",
    "k[::2]"
   ]
  },
  {
   "cell_type": "code",
   "execution_count": 133,
   "id": "bd286d1d-ef11-438c-ae2c-23f452bf0f2f",
   "metadata": {},
   "outputs": [
    {
     "data": {
      "text/plain": [
       "[34, 56]"
      ]
     },
     "execution_count": 133,
     "metadata": {},
     "output_type": "execute_result"
    }
   ],
   "source": [
    "# [34,56]\n",
    "k[2:5:2]"
   ]
  },
  {
   "cell_type": "code",
   "execution_count": 117,
   "id": "fd581227-39b9-4756-bd4a-ff4eefbd57e4",
   "metadata": {},
   "outputs": [
    {
     "data": {
      "text/plain": [
       "[23, 45, 67]"
      ]
     },
     "execution_count": 117,
     "metadata": {},
     "output_type": "execute_result"
    }
   ],
   "source": [
    "#[23,45,67]\n",
    "k[1:6:2]"
   ]
  },
  {
   "cell_type": "code",
   "execution_count": 127,
   "id": "5075c0c5-41d0-494d-86e1-6df4d9b9e94c",
   "metadata": {},
   "outputs": [
    {
     "data": {
      "text/plain": [
       "[23, 56]"
      ]
     },
     "execution_count": 127,
     "metadata": {},
     "output_type": "execute_result"
    }
   ],
   "source": [
    "#[23,56]\n",
    "k[1:5:3]"
   ]
  },
  {
   "cell_type": "code",
   "execution_count": 121,
   "id": "a6a848de-fdd3-44e0-83d0-c36e17431c5f",
   "metadata": {},
   "outputs": [
    {
     "data": {
      "text/plain": [
       "[12, 56]"
      ]
     },
     "execution_count": 121,
     "metadata": {},
     "output_type": "execute_result"
    }
   ],
   "source": [
    "#[12,56]\n",
    "k[:5:4]"
   ]
  },
  {
   "cell_type": "code",
   "execution_count": 123,
   "id": "1c7e4d6e-72b5-48d9-86dd-34ab8bfa08c0",
   "metadata": {},
   "outputs": [
    {
     "data": {
      "text/plain": [
       "[23, 67]"
      ]
     },
     "execution_count": 123,
     "metadata": {},
     "output_type": "execute_result"
    }
   ],
   "source": [
    "#[23,67]\n",
    "k[1:6:4]"
   ]
  },
  {
   "cell_type": "markdown",
   "id": "bc66d390-6e66-4c94-aa52-9924d4d66b17",
   "metadata": {},
   "source": [
    "## -ve indexing"
   ]
  },
  {
   "cell_type": "code",
   "execution_count": 138,
   "id": "eb050ead-39c9-4df4-8a5c-5d6dc0a6ddef",
   "metadata": {},
   "outputs": [
    {
     "data": {
      "text/plain": [
       "40"
      ]
     },
     "execution_count": 138,
     "metadata": {},
     "output_type": "execute_result"
    }
   ],
   "source": [
    "j=[10,20,30,40,50]\n",
    "j[-2]\n",
    "# extract last element\n",
    "# 30 by -ve element"
   ]
  },
  {
   "cell_type": "code",
   "execution_count": 140,
   "id": "7c7b604e-7f9d-4320-a0e4-051754f34d1a",
   "metadata": {},
   "outputs": [
    {
     "data": {
      "text/plain": [
       "50"
      ]
     },
     "execution_count": 140,
     "metadata": {},
     "output_type": "execute_result"
    }
   ],
   "source": [
    "# extract last element\n",
    "j[-1]"
   ]
  },
  {
   "cell_type": "code",
   "execution_count": 142,
   "id": "8c0aa70b-91f1-49e0-a259-27e1d1d272ba",
   "metadata": {},
   "outputs": [
    {
     "data": {
      "text/plain": [
       "30"
      ]
     },
     "execution_count": 142,
     "metadata": {},
     "output_type": "execute_result"
    }
   ],
   "source": [
    "j[-3]"
   ]
  },
  {
   "cell_type": "markdown",
   "id": "7c3ea800-c917-4ca2-9d8f-839feabbdb0d",
   "metadata": {},
   "source": [
    "## -ve step size"
   ]
  },
  {
   "cell_type": "code",
   "execution_count": 147,
   "id": "f7701540-549b-45a5-a196-9a847a55d480",
   "metadata": {},
   "outputs": [
    {
     "data": {
      "text/plain": [
       "[10, 30, 50]"
      ]
     },
     "execution_count": 147,
     "metadata": {},
     "output_type": "execute_result"
    }
   ],
   "source": [
    "j=[10,20,30,40,50]\n",
    "[50,40,30,20,10]\n",
    "j[::2]"
   ]
  },
  {
   "cell_type": "code",
   "execution_count": 149,
   "id": "e60a59df-c439-4db3-9c24-5a5b94fd63fc",
   "metadata": {},
   "outputs": [
    {
     "data": {
      "text/plain": [
       "[50, 30, 10]"
      ]
     },
     "execution_count": 149,
     "metadata": {},
     "output_type": "execute_result"
    }
   ],
   "source": [
    "j[::-2] # reverse the list\n"
   ]
  },
  {
   "cell_type": "code",
   "execution_count": 171,
   "id": "06475d55-7268-4144-98e2-9b2625d2b8f1",
   "metadata": {},
   "outputs": [
    {
     "data": {
      "text/plain": [
       "[40, 20]"
      ]
     },
     "execution_count": 171,
     "metadata": {},
     "output_type": "execute_result"
    }
   ],
   "source": [
    "#[40,20]\n",
    "j[-2:-5:-2]"
   ]
  },
  {
   "cell_type": "code",
   "execution_count": 187,
   "id": "54001042-90e2-498b-8af3-94fb0b2d978d",
   "metadata": {},
   "outputs": [
    {
     "data": {
      "text/plain": [
       "[30, 20]"
      ]
     },
     "execution_count": 187,
     "metadata": {},
     "output_type": "execute_result"
    }
   ],
   "source": [
    "#[30,20]\n",
    "j[-3:-5:-1]"
   ]
  },
  {
   "cell_type": "code",
   "execution_count": 195,
   "id": "d6395afa-8485-4c87-89b0-41c6891b22a2",
   "metadata": {},
   "outputs": [
    {
     "data": {
      "text/plain": [
       "[40, 30, 20]"
      ]
     },
     "execution_count": 195,
     "metadata": {},
     "output_type": "execute_result"
    }
   ],
   "source": [
    "#[40,30,20]\n",
    "j[-2:-5:-1]"
   ]
  },
  {
   "cell_type": "code",
   "execution_count": 211,
   "id": "76fd1ace-f15b-4959-9295-c8e695a4b96e",
   "metadata": {},
   "outputs": [],
   "source": [
    "m =[1,2,3,4,5,6,7,8,9,10]\n",
    "   #[10,9,8,7,6,5,4,3,2,1]"
   ]
  },
  {
   "cell_type": "code",
   "execution_count": 229,
   "id": "f772ebc7-cfe0-4b16-b080-20e9485ded8e",
   "metadata": {},
   "outputs": [
    {
     "data": {
      "text/plain": [
       "[6, 5, 4]"
      ]
     },
     "execution_count": 229,
     "metadata": {},
     "output_type": "execute_result"
    }
   ],
   "source": [
    "#[6,5,4]\n",
    "m[-5:-8:-1]"
   ]
  },
  {
   "cell_type": "code",
   "execution_count": 241,
   "id": "c30b8cc3-7653-4fa1-a17c-f3aa68012e38",
   "metadata": {},
   "outputs": [
    {
     "data": {
      "text/plain": [
       "[]"
      ]
     },
     "execution_count": 241,
     "metadata": {},
     "output_type": "execute_result"
    }
   ],
   "source": [
    "#[8,6,4]\n",
    "m[-7:-3:-2]"
   ]
  },
  {
   "cell_type": "code",
   "execution_count": 225,
   "id": "63eabfd1-96cb-4112-9725-7c8272a3f85a",
   "metadata": {},
   "outputs": [
    {
     "data": {
      "text/plain": [
       "[6, 7, 8, 9]"
      ]
     },
     "execution_count": 225,
     "metadata": {},
     "output_type": "execute_result"
    }
   ],
   "source": [
    "#[5,2]\n",
    "m[-5:-1]"
   ]
  },
  {
   "cell_type": "code",
   "execution_count": 253,
   "id": "8aec0a8b-1839-40c8-a296-2f584bfbc2e1",
   "metadata": {},
   "outputs": [
    {
     "data": {
      "text/plain": [
       "[8, 5, 2]"
      ]
     },
     "execution_count": 253,
     "metadata": {},
     "output_type": "execute_result"
    }
   ],
   "source": [
    "#[8,5,2]\n",
    "m[-3:-10:-3]"
   ]
  },
  {
   "cell_type": "code",
   "execution_count": 257,
   "id": "d40264dd-b6ee-47c5-a05a-145c08fcbbac",
   "metadata": {},
   "outputs": [
    {
     "data": {
      "text/plain": [
       "[9, 4]"
      ]
     },
     "execution_count": 257,
     "metadata": {},
     "output_type": "execute_result"
    }
   ],
   "source": [
    "#[9,4]\n",
    "m[-2:-8:-5]"
   ]
  },
  {
   "cell_type": "code",
   "execution_count": 251,
   "id": "aaf79826-5c71-475d-80f8-df186781b985",
   "metadata": {},
   "outputs": [],
   "source": [
    "#[6,2]"
   ]
  },
  {
   "cell_type": "code",
   "execution_count": 261,
   "id": "6d7a6c2b-c10c-4d95-b653-7179d3ab3e0e",
   "metadata": {},
   "outputs": [
    {
     "data": {
      "text/plain": [
       "[6, 2]"
      ]
     },
     "execution_count": 261,
     "metadata": {},
     "output_type": "execute_result"
    }
   ],
   "source": [
    "m[-5:-10:-4]"
   ]
  },
  {
   "cell_type": "code",
   "execution_count": 263,
   "id": "d14f6553-3237-4c86-b157-9000cca73516",
   "metadata": {},
   "outputs": [
    {
     "data": {
      "text/plain": [
       "'a'"
      ]
     },
     "execution_count": 263,
     "metadata": {},
     "output_type": "execute_result"
    }
   ],
   "source": [
    "d ='i am a data analyst'\n",
    "d[2]"
   ]
  },
  {
   "cell_type": "code",
   "execution_count": 267,
   "id": "0d74cbb2-84a1-4d09-b12f-2c7e09b0269c",
   "metadata": {},
   "outputs": [
    {
     "data": {
      "text/plain": [
       "'am'"
      ]
     },
     "execution_count": 267,
     "metadata": {},
     "output_type": "execute_result"
    }
   ],
   "source": [
    "# 'am'\n",
    "d[2:4]"
   ]
  },
  {
   "cell_type": "code",
   "execution_count": 269,
   "id": "e4f4daa3-6873-482d-bec1-145c863385c3",
   "metadata": {},
   "outputs": [
    {
     "data": {
      "text/plain": [
       "'data'"
      ]
     },
     "execution_count": 269,
     "metadata": {},
     "output_type": "execute_result"
    }
   ],
   "source": [
    "#'data'\n",
    "d[7:11]"
   ]
  },
  {
   "cell_type": "code",
   "execution_count": 273,
   "id": "5532cfac-c213-47ce-92e9-e446d555a7aa",
   "metadata": {},
   "outputs": [
    {
     "data": {
      "text/plain": [
       "'analyst'"
      ]
     },
     "execution_count": 273,
     "metadata": {},
     "output_type": "execute_result"
    }
   ],
   "source": [
    "#anylst\n",
    "d[12:]"
   ]
  },
  {
   "cell_type": "code",
   "execution_count": 277,
   "id": "d7074200-2ba6-442c-be91-79fb5a6871f8",
   "metadata": {},
   "outputs": [
    {
     "data": {
      "text/plain": [
       "'i'"
      ]
     },
     "execution_count": 277,
     "metadata": {},
     "output_type": "execute_result"
    }
   ],
   "source": [
    "# i\n",
    "d[0]"
   ]
  },
  {
   "cell_type": "code",
   "execution_count": 329,
   "id": "7de18802-e7e8-4ba7-9975-b11119d79a96",
   "metadata": {},
   "outputs": [
    {
     "data": {
      "text/plain": [
       "'ma'"
      ]
     },
     "execution_count": 329,
     "metadata": {},
     "output_type": "execute_result"
    }
   ],
   "source": [
    "# 'ma'\n",
    "d[-16:-18:-1]"
   ]
  },
  {
   "cell_type": "code",
   "execution_count": 309,
   "id": "5d115ba9-cce5-4381-96dd-853cf8d0413a",
   "metadata": {},
   "outputs": [
    {
     "data": {
      "text/plain": [
       "''"
      ]
     },
     "execution_count": 309,
     "metadata": {},
     "output_type": "execute_result"
    }
   ],
   "source": []
  },
  {
   "cell_type": "code",
   "execution_count": 331,
   "id": "b44809e7-c9f5-43db-80d8-e6ae8a6f26f1",
   "metadata": {},
   "outputs": [
    {
     "data": {
      "text/plain": [
       "'lana'"
      ]
     },
     "execution_count": 331,
     "metadata": {},
     "output_type": "execute_result"
    }
   ],
   "source": [
    "# 'lana'\n",
    "d[-4:-8:-1]"
   ]
  },
  {
   "cell_type": "code",
   "execution_count": 313,
   "id": "8f279743-2396-4267-8ed1-173df8fe825e",
   "metadata": {},
   "outputs": [],
   "source": [
    "# 'aaa'"
   ]
  },
  {
   "cell_type": "code",
   "execution_count": null,
   "id": "e4f577a1-8168-43f8-ac99-dfcf2a312b95",
   "metadata": {},
   "outputs": [],
   "source": []
  },
  {
   "cell_type": "code",
   "execution_count": 316,
   "id": "f05253e6-813d-41c0-bd5c-131117a2a224",
   "metadata": {},
   "outputs": [],
   "source": [
    "# 'aaaa'\n",
    "d["
   ]
  },
  {
   "cell_type": "code",
   "execution_count": 318,
   "id": "6f4457b0-fdce-4786-9580-dcea1e09eec0",
   "metadata": {},
   "outputs": [],
   "source": [
    "# 'dam'"
   ]
  },
  {
   "cell_type": "code",
   "execution_count": 343,
   "id": "ebcf7051-333d-4899-b0e9-919ec1f55d8b",
   "metadata": {},
   "outputs": [],
   "source": [
    "o=[1,2,3,4,5,6,7,8,9,10]\n",
    "# extract all the even numbers\n",
    "# odd numbers\n",
    "# multiple of 3\n",
    "# multiple of 4\n",
    "# even numbers in revrse order\n",
    "# multiple of 4 in reverse order"
   ]
  },
  {
   "cell_type": "code",
   "execution_count": 347,
   "id": "b15552ec-4276-4f7a-bb48-57bc9836e002",
   "metadata": {},
   "outputs": [
    {
     "data": {
      "text/plain": [
       "[2, 4, 6, 8, 10]"
      ]
     },
     "execution_count": 347,
     "metadata": {},
     "output_type": "execute_result"
    }
   ],
   "source": [
    "o[1:11:2]"
   ]
  },
  {
   "cell_type": "code",
   "execution_count": 359,
   "id": "ebb6b114-2888-4ec5-8c86-7d06cc052247",
   "metadata": {},
   "outputs": [
    {
     "data": {
      "text/plain": [
       "[1, 3, 5, 7, 9]"
      ]
     },
     "execution_count": 359,
     "metadata": {},
     "output_type": "execute_result"
    }
   ],
   "source": [
    "o[:10:2]"
   ]
  },
  {
   "cell_type": "code",
   "execution_count": 375,
   "id": "dae8d9dc-d315-4ba4-b857-a82949a970fb",
   "metadata": {},
   "outputs": [
    {
     "data": {
      "text/plain": [
       "[3, 6, 9]"
      ]
     },
     "execution_count": 375,
     "metadata": {},
     "output_type": "execute_result"
    }
   ],
   "source": [
    "o[2:10:3]"
   ]
  },
  {
   "cell_type": "code",
   "execution_count": 377,
   "id": "bd393104-a120-4994-8a0b-b0d3ff454abe",
   "metadata": {},
   "outputs": [
    {
     "data": {
      "text/plain": [
       "[4, 8]"
      ]
     },
     "execution_count": 377,
     "metadata": {},
     "output_type": "execute_result"
    }
   ],
   "source": [
    "o[3:9:4]"
   ]
  },
  {
   "cell_type": "code",
   "execution_count": 395,
   "id": "02bc87ff-9c14-4c58-8e00-a37a5876e74f",
   "metadata": {},
   "outputs": [
    {
     "data": {
      "text/plain": [
       "[10, 8, 6, 4, 2]"
      ]
     },
     "execution_count": 395,
     "metadata": {},
     "output_type": "execute_result"
    }
   ],
   "source": [
    "o[:-11:-2]"
   ]
  },
  {
   "cell_type": "code",
   "execution_count": 441,
   "id": "7e7173e7-1b74-4734-a1f1-577d668bd9d7",
   "metadata": {},
   "outputs": [
    {
     "data": {
      "text/plain": [
       "[8, 4]"
      ]
     },
     "execution_count": 441,
     "metadata": {},
     "output_type": "execute_result"
    }
   ],
   "source": [
    "o[-3:-8:-4]"
   ]
  },
  {
   "cell_type": "code",
   "execution_count": 13,
   "id": "e50e2cb0-b3ce-46aa-ad9f-4f0aca1e536e",
   "metadata": {},
   "outputs": [],
   "source": [
    "s='my name is dipika'\n",
    "\n"
   ]
  },
  {
   "cell_type": "code",
   "execution_count": 15,
   "id": "d36c3adb-04a3-4a7f-91cf-7740727a6729",
   "metadata": {},
   "outputs": [
    {
     "data": {
      "text/plain": [
       "'name'"
      ]
     },
     "execution_count": 15,
     "metadata": {},
     "output_type": "execute_result"
    }
   ],
   "source": [
    "# 'name'\n",
    "s[3:7]"
   ]
  },
  {
   "cell_type": "code",
   "execution_count": 17,
   "id": "a48e497b-d81b-41c6-990a-3450fdfce3ea",
   "metadata": {},
   "outputs": [
    {
     "data": {
      "text/plain": [
       "'kipi'"
      ]
     },
     "execution_count": 17,
     "metadata": {},
     "output_type": "execute_result"
    }
   ],
   "source": [
    "# 'kipi'\n",
    "s[-2:-6:-1]"
   ]
  },
  {
   "cell_type": "code",
   "execution_count": 25,
   "id": "370f47d8-3817-4bb5-a434-78deea72e1b0",
   "metadata": {},
   "outputs": [
    {
     "data": {
      "text/plain": [
       "'man'"
      ]
     },
     "execution_count": 25,
     "metadata": {},
     "output_type": "execute_result"
    }
   ],
   "source": [
    "# 'man'\n",
    "s[-12:-15:-1]"
   ]
  },
  {
   "cell_type": "code",
   "execution_count": 51,
   "id": "e644b764-d807-40dd-8967-54b5097bee09",
   "metadata": {},
   "outputs": [
    {
     "data": {
      "text/plain": [
       "'dim'"
      ]
     },
     "execution_count": 51,
     "metadata": {},
     "output_type": "execute_result"
    }
   ],
   "source": [
    "# 'dim'\n",
    "s[-6:-13:-3]"
   ]
  },
  {
   "cell_type": "code",
   "execution_count": 447,
   "id": "297a23ff-c349-46ad-ae56-55b79f162ecc",
   "metadata": {},
   "outputs": [],
   "source": [
    "#'pin'\n"
   ]
  },
  {
   "cell_type": "code",
   "execution_count": 451,
   "id": "3d28586a-96ce-4acc-bb39-92c373a7ad07",
   "metadata": {},
   "outputs": [
    {
     "name": "stdout",
     "output_type": "stream",
     "text": [
      "4\n"
     ]
    }
   ],
   "source": [
    "# Len >> gives the no of element\n",
    "i =[12,23,34,45]\n",
    "print(len(i))"
   ]
  },
  {
   "cell_type": "code",
   "execution_count": 453,
   "id": "b4af595f-4ddb-40c1-8e79-116db8aec112",
   "metadata": {},
   "outputs": [],
   "source": [
    "r =[12,23,34,45,56,67]\n"
   ]
  },
  {
   "cell_type": "code",
   "execution_count": 471,
   "id": "2af4abac-2050-41bf-bb98-eef205c436b8",
   "metadata": {},
   "outputs": [
    {
     "name": "stdout",
     "output_type": "stream",
     "text": [
      "90\n"
     ]
    }
   ],
   "source": [
    "# what is the additon of 3rd and 5th element\n",
    "print(r[2]+r[4])"
   ]
  },
  {
   "cell_type": "code",
   "execution_count": 486,
   "id": "df79b022-0967-4c95-9a87-9a5b7fe3d078",
   "metadata": {},
   "outputs": [
    {
     "name": "stdout",
     "output_type": "stream",
     "text": [
      "224\n"
     ]
    }
   ],
   "source": [
    "# what is the product of 34 and 67\n",
    "print(r[3]*2+r[5]*2)"
   ]
  },
  {
   "cell_type": "markdown",
   "id": "303bf88b-6e74-4a2a-8ef5-c36679160e03",
   "metadata": {},
   "source": [
    "## index"
   ]
  },
  {
   "cell_type": "code",
   "execution_count": 477,
   "id": "b2a4f00a-5ab9-4aab-94da-174b574076cd",
   "metadata": {},
   "outputs": [
    {
     "data": {
      "text/plain": [
       "3"
      ]
     },
     "execution_count": 477,
     "metadata": {},
     "output_type": "execute_result"
    }
   ],
   "source": [
    "# what is the index of 45\n",
    "r.index(45)"
   ]
  },
  {
   "cell_type": "code",
   "execution_count": 479,
   "id": "81760c38-9ebf-491c-a8be-a08139a856d7",
   "metadata": {},
   "outputs": [
    {
     "data": {
      "text/plain": [
       "1"
      ]
     },
     "execution_count": 479,
     "metadata": {},
     "output_type": "execute_result"
    }
   ],
   "source": [
    "# what is the index of 23\n",
    "r.index(23)"
   ]
  },
  {
   "cell_type": "code",
   "execution_count": 481,
   "id": "9436bda2-db07-4aab-b435-bb3583622d62",
   "metadata": {},
   "outputs": [
    {
     "data": {
      "text/plain": [
       "4"
      ]
     },
     "execution_count": 481,
     "metadata": {},
     "output_type": "execute_result"
    }
   ],
   "source": [
    "# what is the index of 56\n",
    "r.index(56)"
   ]
  },
  {
   "cell_type": "code",
   "execution_count": null,
   "id": "200fb223-1d50-4f8b-8ae5-3d15d05fea65",
   "metadata": {},
   "outputs": [],
   "source": []
  }
 ],
 "metadata": {
  "kernelspec": {
   "display_name": "Python 3 (ipykernel)",
   "language": "python",
   "name": "python3"
  },
  "language_info": {
   "codemirror_mode": {
    "name": "ipython",
    "version": 3
   },
   "file_extension": ".py",
   "mimetype": "text/x-python",
   "name": "python",
   "nbconvert_exporter": "python",
   "pygments_lexer": "ipython3",
   "version": "3.12.4"
  }
 },
 "nbformat": 4,
 "nbformat_minor": 5
}
